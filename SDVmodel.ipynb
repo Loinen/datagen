{
  "nbformat": 4,
  "nbformat_minor": 0,
  "metadata": {
    "colab": {
      "name": "SDVmodel.ipynb",
      "provenance": [],
      "authorship_tag": "ABX9TyPXPRT+b8fHDOqbuW/S8bN0",
      "include_colab_link": true
    },
    "kernelspec": {
      "name": "python3",
      "display_name": "Python 3"
    },
    "language_info": {
      "name": "python"
    }
  },
  "cells": [
    {
      "cell_type": "markdown",
      "metadata": {
        "id": "view-in-github",
        "colab_type": "text"
      },
      "source": [
        "<a href=\"https://colab.research.google.com/github/Loinen/datagen/blob/main/SDVmodel.ipynb\" target=\"_parent\"><img src=\"https://colab.research.google.com/assets/colab-badge.svg\" alt=\"Open In Colab\"/></a>"
      ]
    },
    {
      "cell_type": "code",
      "metadata": {
        "id": "CMhFUdotY43G"
      },
      "source": [
        "!pip install sdv"
      ],
      "execution_count": null,
      "outputs": []
    },
    {
      "cell_type": "code",
      "metadata": {
        "id": "TyBuJYOlLRKu"
      },
      "source": [
        "import numpy as np\n",
        "import matplotlib.pyplot as plt\n",
        "import pandas as pd\n",
        "import seaborn as sns\n",
        "import warnings\n",
        "import random as rd\n",
        "\n",
        "from sklearn.metrics import f1_score, accuracy_score, roc_auc_score,  plot_roc_curve\n",
        "from sklearn.preprocessing import StandardScaler, MinMaxScaler\n",
        "from sklearn.ensemble import RandomForestClassifier\n",
        "from sklearn.pipeline import Pipeline\n",
        "from sklearn.model_selection import train_test_split, GridSearchCV, StratifiedKFold, StratifiedShuffleSplit\n",
        "from sklearn import model_selection\n",
        "from sklearn.metrics import classification_report, plot_confusion_matrix"
      ],
      "execution_count": 6,
      "outputs": []
    },
    {
      "cell_type": "code",
      "metadata": {
        "colab": {
          "base_uri": "https://localhost:8080/",
          "height": 239
        },
        "id": "CK3XEBTTZGFn",
        "outputId": "9d54a517-c167-46a8-9195-37f74a0fdadc"
      },
      "source": [
        "from sdv.timeseries import PAR"
      ],
      "execution_count": 8,
      "outputs": [
        {
          "output_type": "error",
          "ename": "ValueError",
          "evalue": "ignored",
          "traceback": [
            "\u001b[0;31m---------------------------------------------------------------------------\u001b[0m",
            "\u001b[0;31mValueError\u001b[0m                                Traceback (most recent call last)",
            "\u001b[0;32m<ipython-input-8-9e18ba1de9dc>\u001b[0m in \u001b[0;36m<module>\u001b[0;34m()\u001b[0m\n\u001b[0;32m----> 1\u001b[0;31m \u001b[0;32mfrom\u001b[0m \u001b[0msdv\u001b[0m\u001b[0;34m.\u001b[0m\u001b[0mtimeseries\u001b[0m \u001b[0;32mimport\u001b[0m \u001b[0mPAR\u001b[0m\u001b[0;34m\u001b[0m\u001b[0;34m\u001b[0m\u001b[0m\n\u001b[0m",
            "\u001b[0;32m/usr/local/lib/python3.7/dist-packages/sdv/__init__.py\u001b[0m in \u001b[0;36m<module>\u001b[0;34m()\u001b[0m\n\u001b[1;32m      9\u001b[0m \u001b[0m__version__\u001b[0m \u001b[0;34m=\u001b[0m \u001b[0;34m'0.9.0'\u001b[0m\u001b[0;34m\u001b[0m\u001b[0;34m\u001b[0m\u001b[0m\n\u001b[1;32m     10\u001b[0m \u001b[0;34m\u001b[0m\u001b[0m\n\u001b[0;32m---> 11\u001b[0;31m \u001b[0;32mfrom\u001b[0m \u001b[0msdv\u001b[0m \u001b[0;32mimport\u001b[0m \u001b[0mconstraints\u001b[0m\u001b[0;34m,\u001b[0m \u001b[0mevaluation\u001b[0m\u001b[0;34m,\u001b[0m \u001b[0mmetadata\u001b[0m\u001b[0;34m,\u001b[0m \u001b[0mrelational\u001b[0m\u001b[0;34m,\u001b[0m \u001b[0mtabular\u001b[0m\u001b[0;34m\u001b[0m\u001b[0;34m\u001b[0m\u001b[0m\n\u001b[0m\u001b[1;32m     12\u001b[0m \u001b[0;32mfrom\u001b[0m \u001b[0msdv\u001b[0m\u001b[0;34m.\u001b[0m\u001b[0mdemo\u001b[0m \u001b[0;32mimport\u001b[0m \u001b[0mget_available_demos\u001b[0m\u001b[0;34m,\u001b[0m \u001b[0mload_demo\u001b[0m\u001b[0;34m\u001b[0m\u001b[0;34m\u001b[0m\u001b[0m\n\u001b[1;32m     13\u001b[0m \u001b[0;32mfrom\u001b[0m \u001b[0msdv\u001b[0m\u001b[0;34m.\u001b[0m\u001b[0mmetadata\u001b[0m \u001b[0;32mimport\u001b[0m \u001b[0mMetadata\u001b[0m\u001b[0;34m,\u001b[0m \u001b[0mTable\u001b[0m\u001b[0;34m\u001b[0m\u001b[0;34m\u001b[0m\u001b[0m\n",
            "\u001b[0;32m/usr/local/lib/python3.7/dist-packages/sdv/evaluation.py\u001b[0m in \u001b[0;36m<module>\u001b[0;34m()\u001b[0m\n\u001b[1;32m      2\u001b[0m \u001b[0;34m\u001b[0m\u001b[0m\n\u001b[1;32m      3\u001b[0m \u001b[0;32mimport\u001b[0m \u001b[0mpandas\u001b[0m \u001b[0;32mas\u001b[0m \u001b[0mpd\u001b[0m\u001b[0;34m\u001b[0m\u001b[0;34m\u001b[0m\u001b[0m\n\u001b[0;32m----> 4\u001b[0;31m \u001b[0;32mimport\u001b[0m \u001b[0msdmetrics\u001b[0m\u001b[0;34m\u001b[0m\u001b[0;34m\u001b[0m\u001b[0m\n\u001b[0m\u001b[1;32m      5\u001b[0m \u001b[0;34m\u001b[0m\u001b[0m\n\u001b[1;32m      6\u001b[0m \u001b[0;32mfrom\u001b[0m \u001b[0msdv\u001b[0m\u001b[0;34m.\u001b[0m\u001b[0mmetadata\u001b[0m\u001b[0;34m.\u001b[0m\u001b[0mdataset\u001b[0m \u001b[0;32mimport\u001b[0m \u001b[0mMetadata\u001b[0m\u001b[0;34m\u001b[0m\u001b[0;34m\u001b[0m\u001b[0m\n",
            "\u001b[0;32m/usr/local/lib/python3.7/dist-packages/sdmetrics/__init__.py\u001b[0m in \u001b[0;36m<module>\u001b[0;34m()\u001b[0m\n\u001b[1;32m      9\u001b[0m \u001b[0;32mimport\u001b[0m \u001b[0mpandas\u001b[0m \u001b[0;32mas\u001b[0m \u001b[0mpd\u001b[0m\u001b[0;34m\u001b[0m\u001b[0;34m\u001b[0m\u001b[0m\n\u001b[1;32m     10\u001b[0m \u001b[0;34m\u001b[0m\u001b[0m\n\u001b[0;32m---> 11\u001b[0;31m from sdmetrics import (\n\u001b[0m\u001b[1;32m     12\u001b[0m     column_pairs, demos, goal, multi_table, single_column, single_table, timeseries)\n\u001b[1;32m     13\u001b[0m \u001b[0;32mfrom\u001b[0m \u001b[0msdmetrics\u001b[0m\u001b[0;34m.\u001b[0m\u001b[0mdemos\u001b[0m \u001b[0;32mimport\u001b[0m \u001b[0mload_demo\u001b[0m\u001b[0;34m\u001b[0m\u001b[0;34m\u001b[0m\u001b[0m\n",
            "\u001b[0;32m/usr/local/lib/python3.7/dist-packages/sdmetrics/multi_table/__init__.py\u001b[0m in \u001b[0;36m<module>\u001b[0;34m()\u001b[0m\n\u001b[1;32m      1\u001b[0m \u001b[0;34m\"\"\"Metrics for multi table datasets.\"\"\"\u001b[0m\u001b[0;34m\u001b[0m\u001b[0;34m\u001b[0m\u001b[0m\n\u001b[1;32m      2\u001b[0m \u001b[0;34m\u001b[0m\u001b[0m\n\u001b[0;32m----> 3\u001b[0;31m \u001b[0;32mfrom\u001b[0m \u001b[0msdmetrics\u001b[0m\u001b[0;34m.\u001b[0m\u001b[0mmulti_table\u001b[0m \u001b[0;32mimport\u001b[0m \u001b[0mdetection\u001b[0m\u001b[0;34m,\u001b[0m \u001b[0mmulti_single_table\u001b[0m\u001b[0;34m\u001b[0m\u001b[0;34m\u001b[0m\u001b[0m\n\u001b[0m\u001b[1;32m      4\u001b[0m \u001b[0;32mfrom\u001b[0m \u001b[0msdmetrics\u001b[0m\u001b[0;34m.\u001b[0m\u001b[0mmulti_table\u001b[0m\u001b[0;34m.\u001b[0m\u001b[0mbase\u001b[0m \u001b[0;32mimport\u001b[0m \u001b[0mMultiTableMetric\u001b[0m\u001b[0;34m\u001b[0m\u001b[0;34m\u001b[0m\u001b[0m\n\u001b[1;32m      5\u001b[0m \u001b[0;32mfrom\u001b[0m \u001b[0msdmetrics\u001b[0m\u001b[0;34m.\u001b[0m\u001b[0mmulti_table\u001b[0m\u001b[0;34m.\u001b[0m\u001b[0mdetection\u001b[0m\u001b[0;34m.\u001b[0m\u001b[0mbase\u001b[0m \u001b[0;32mimport\u001b[0m \u001b[0mDetectionMetric\u001b[0m\u001b[0;34m\u001b[0m\u001b[0;34m\u001b[0m\u001b[0m\n",
            "\u001b[0;32m/usr/local/lib/python3.7/dist-packages/sdmetrics/multi_table/multi_single_table.py\u001b[0m in \u001b[0;36m<module>\u001b[0;34m()\u001b[0m\n\u001b[1;32m      5\u001b[0m \u001b[0;32mimport\u001b[0m \u001b[0mnumpy\u001b[0m \u001b[0;32mas\u001b[0m \u001b[0mnp\u001b[0m\u001b[0;34m\u001b[0m\u001b[0;34m\u001b[0m\u001b[0m\n\u001b[1;32m      6\u001b[0m \u001b[0;34m\u001b[0m\u001b[0m\n\u001b[0;32m----> 7\u001b[0;31m \u001b[0;32mfrom\u001b[0m \u001b[0msdmetrics\u001b[0m \u001b[0;32mimport\u001b[0m \u001b[0msingle_table\u001b[0m\u001b[0;34m\u001b[0m\u001b[0;34m\u001b[0m\u001b[0m\n\u001b[0m\u001b[1;32m      8\u001b[0m \u001b[0;32mfrom\u001b[0m \u001b[0msdmetrics\u001b[0m\u001b[0;34m.\u001b[0m\u001b[0mmulti_table\u001b[0m\u001b[0;34m.\u001b[0m\u001b[0mbase\u001b[0m \u001b[0;32mimport\u001b[0m \u001b[0mMultiTableMetric\u001b[0m\u001b[0;34m\u001b[0m\u001b[0;34m\u001b[0m\u001b[0m\n\u001b[1;32m      9\u001b[0m \u001b[0;32mfrom\u001b[0m \u001b[0msdmetrics\u001b[0m\u001b[0;34m.\u001b[0m\u001b[0mutils\u001b[0m \u001b[0;32mimport\u001b[0m \u001b[0mNestedAttrsMeta\u001b[0m\u001b[0;34m\u001b[0m\u001b[0;34m\u001b[0m\u001b[0m\n",
            "\u001b[0;32m/usr/local/lib/python3.7/dist-packages/sdmetrics/single_table/__init__.py\u001b[0m in \u001b[0;36m<module>\u001b[0;34m()\u001b[0m\n\u001b[1;32m      1\u001b[0m \u001b[0;34m\"\"\"Metrics for single table datasets.\"\"\"\u001b[0m\u001b[0;34m\u001b[0m\u001b[0;34m\u001b[0m\u001b[0m\n\u001b[1;32m      2\u001b[0m \u001b[0;34m\u001b[0m\u001b[0m\n\u001b[0;32m----> 3\u001b[0;31m from sdmetrics.single_table import (\n\u001b[0m\u001b[1;32m      4\u001b[0m     base, bayesian_network, detection, efficacy, gaussian_mixture, multi_single_column, privacy)\n\u001b[1;32m      5\u001b[0m \u001b[0;32mfrom\u001b[0m \u001b[0msdmetrics\u001b[0m\u001b[0;34m.\u001b[0m\u001b[0msingle_table\u001b[0m\u001b[0;34m.\u001b[0m\u001b[0mbase\u001b[0m \u001b[0;32mimport\u001b[0m \u001b[0mSingleTableMetric\u001b[0m\u001b[0;34m\u001b[0m\u001b[0;34m\u001b[0m\u001b[0m\n",
            "\u001b[0;32m/usr/local/lib/python3.7/dist-packages/sdmetrics/single_table/bayesian_network.py\u001b[0m in \u001b[0;36m<module>\u001b[0;34m()\u001b[0m\n\u001b[1;32m      5\u001b[0m \u001b[0;34m\u001b[0m\u001b[0m\n\u001b[1;32m      6\u001b[0m \u001b[0;32mimport\u001b[0m \u001b[0mnumpy\u001b[0m \u001b[0;32mas\u001b[0m \u001b[0mnp\u001b[0m\u001b[0;34m\u001b[0m\u001b[0;34m\u001b[0m\u001b[0m\n\u001b[0;32m----> 7\u001b[0;31m \u001b[0;32mfrom\u001b[0m \u001b[0mpomegranate\u001b[0m \u001b[0;32mimport\u001b[0m \u001b[0mBayesianNetwork\u001b[0m\u001b[0;34m\u001b[0m\u001b[0;34m\u001b[0m\u001b[0m\n\u001b[0m\u001b[1;32m      8\u001b[0m \u001b[0;34m\u001b[0m\u001b[0m\n\u001b[1;32m      9\u001b[0m \u001b[0;32mfrom\u001b[0m \u001b[0msdmetrics\u001b[0m\u001b[0;34m.\u001b[0m\u001b[0mgoal\u001b[0m \u001b[0;32mimport\u001b[0m \u001b[0mGoal\u001b[0m\u001b[0;34m\u001b[0m\u001b[0;34m\u001b[0m\u001b[0m\n",
            "\u001b[0;32m/usr/local/lib/python3.7/dist-packages/pomegranate/__init__.py\u001b[0m in \u001b[0;36m<module>\u001b[0;34m()\u001b[0m\n\u001b[1;32m      9\u001b[0m \u001b[0;32mimport\u001b[0m \u001b[0mos\u001b[0m\u001b[0;34m\u001b[0m\u001b[0;34m\u001b[0m\u001b[0m\n\u001b[1;32m     10\u001b[0m \u001b[0;34m\u001b[0m\u001b[0m\n\u001b[0;32m---> 11\u001b[0;31m \u001b[0;32mfrom\u001b[0m \u001b[0;34m.\u001b[0m\u001b[0mbase\u001b[0m \u001b[0;32mimport\u001b[0m \u001b[0;34m*\u001b[0m\u001b[0;34m\u001b[0m\u001b[0;34m\u001b[0m\u001b[0m\n\u001b[0m\u001b[1;32m     12\u001b[0m \u001b[0;32mfrom\u001b[0m \u001b[0;34m.\u001b[0m\u001b[0mparallel\u001b[0m \u001b[0;32mimport\u001b[0m \u001b[0;34m*\u001b[0m\u001b[0;34m\u001b[0m\u001b[0;34m\u001b[0m\u001b[0m\n\u001b[1;32m     13\u001b[0m \u001b[0;34m\u001b[0m\u001b[0m\n",
            "\u001b[0;32m/usr/local/lib/python3.7/dist-packages/pomegranate/base.pyx\u001b[0m in \u001b[0;36minit pomegranate.base\u001b[0;34m()\u001b[0m\n",
            "\u001b[0;31mValueError\u001b[0m: numpy.ndarray size changed, may indicate binary incompatibility. Expected 88 from C header, got 80 from PyObject"
          ]
        }
      ]
    },
    {
      "cell_type": "code",
      "metadata": {
        "id": "4_iiTCDyXJM7"
      },
      "source": [
        "data = pd.read_csv(\"base25data/Shestakovo_validation2.csv\", index_col=0)\n",
        "data.LITHO = data.LITHO.astype('int8') # data.LITHO.astype('category')"
      ],
      "execution_count": null,
      "outputs": []
    },
    {
      "cell_type": "code",
      "metadata": {
        "id": "jEF2peNoXMO9"
      },
      "source": [
        "# Разобьем данные на тренировочную и тестовую части в пропорции 0.7 и 0.3 соответственно\n",
        "train_part_size = 0.7\n",
        "# Случайно выберем скважины для тренировочного и тестового наборов\n",
        "rd.seed(17)\n",
        "train_wells = rd.sample(data.Well.unique().tolist(), round(len(data.Well.unique())*train_part_size))\n",
        "train_set = data.loc[data.Well.isin(train_wells)]\n",
        "test_set = data.loc[data.Well.isin(i for i in data.Well.unique() if i not in train_wells)]\n",
        "\n",
        "Feature_train = train_set.drop(['DEPT', 'Well', 'LITHO'], axis=1)\n",
        "Target_train = train_set['LITHO']\n",
        "Feature_test = test_set.drop(['DEPT', 'Well', 'LITHO'], axis=1)\n",
        "Target_test = test_set['LITHO']"
      ],
      "execution_count": null,
      "outputs": []
    },
    {
      "cell_type": "code",
      "metadata": {
        "id": "A0isKl13XRT0"
      },
      "source": [
        "# baseline\n",
        "clf = RandomForestClassifier(class_weight=\"balanced\")\n",
        "clf.fit(Feature_train, Target_train)\n",
        "predicted_litho = clf.predict(Feature_test)\n",
        "\n",
        "# Посчитаем точность полученную нашей baseline-моделью\n",
        "# Считаться будут две метрики - F1 и Accuracy\n",
        "base_acc = accuracy_score(Target_test, predicted_litho)\n",
        "base_f1 = f1_score(Target_test, predicted_litho)\n",
        "print('F1 метрика равна %.3f, и доля правильных ответов составляет %.3f для базового кейса.'%(base_f1, base_acc))"
      ],
      "execution_count": null,
      "outputs": []
    },
    {
      "cell_type": "code",
      "metadata": {
        "id": "yrm9nxwvXU9M"
      },
      "source": [
        "# PAR model\n",
        "\n",
        "entity_columns = ['Well']\n",
        "sequence_index = 'DEPT'\n",
        "\n",
        "model = PAR(\n",
        "    entity_columns=entity_columns,\n",
        "    sequence_index=sequence_index,\n",
        ")\n",
        "\n",
        "model.fit(train_set)  # учим на том же, на чем учили KN\n",
        "model.save('par_base_kn_l200.pkl')\n",
        "\n",
        "# 0.034 - 200, 0.03 - base, 400 - 0.51б 300 -\n",
        "model = PAR.load('par_base_kn_l200.pkl')\n",
        "new_data = model.sample(470, sequence_length=300)  # 140k\n",
        "new_data.to_csv('par_results300_1.csv', index=False)\n",
        "new_data = pd.read_csv(\"par_results200.csv\", index_col=False)\n",
        "\n",
        "model = PAR.load('par_base_kn_l200.pkl')\n",
        "new_data = model.sample(1100)  # 1 = 160 значений\n",
        "new_data.to_csv('par_results_200_no_ns.csv', index=False)"
      ],
      "execution_count": null,
      "outputs": []
    },
    {
      "cell_type": "code",
      "metadata": {
        "id": "m2QhL9wcXWvV"
      },
      "source": [
        "# new_data = pd.read_csv(\"par_results_200_no_ns.csv\", index_col=False)"
      ],
      "execution_count": null,
      "outputs": []
    },
    {
      "cell_type": "code",
      "metadata": {
        "id": "qeZL5xZtXejD"
      },
      "source": [
        "# отрисуем полученные данные\n",
        "new_data[:10000].plot(subplots=True, figsize=(15, 10))\n",
        "plt.ylabel(\"Value syn\")\n",
        "plt.xlabel(\"N\")\n",
        "plt.legend(loc='best')\n",
        "plt.xticks(rotation='vertical')"
      ],
      "execution_count": null,
      "outputs": []
    },
    {
      "cell_type": "code",
      "metadata": {
        "id": "-ompkuCBXgT_"
      },
      "source": [
        "# отрисуем обучающие данные\n",
        "train_set.plot(subplots=True, figsize=(15, 10))\n",
        "plt.ylabel(\"Value real\")\n",
        "plt.xlabel(\"N\")\n",
        "plt.legend(loc='best')\n",
        "plt.xticks(rotation='vertical')\n",
        "plt.show()"
      ],
      "execution_count": null,
      "outputs": []
    },
    {
      "cell_type": "code",
      "metadata": {
        "id": "RRFnaDTlXjVQ"
      },
      "source": [
        "print(new_data.shape)\n",
        "print(new_data.head())"
      ],
      "execution_count": null,
      "outputs": []
    },
    {
      "cell_type": "code",
      "metadata": {
        "id": "WEFxrIKLXoJ_"
      },
      "source": [
        "\n",
        "new_data = new_data.drop(np.where(new_data['LITHO'] > 1)[0])\n",
        "new_data = new_data.replace(-1, np.nan, regex=True)\n",
        "new_data = new_data.dropna(subset=['LITHO'])\n",
        "\n",
        "new_data.LITHO = new_data.LITHO.values.astype('bool')  # костыль\n",
        "new_data.LITHO = new_data.LITHO.values.astype('int')\n",
        "pd.set_option('display.max_columns', 15)\n",
        "print(train_set.describe())\n",
        "print(new_data.describe())\n",
        "\n",
        "par_feature_train = new_data.drop(['DEPT', 'Well', 'LITHO'], axis=1)\n",
        "par_target_train = new_data['LITHO']\n",
        "print(\"new shape\", new_data.shape)\n",
        "\n",
        "print(par_target_train.value_counts('LITHO'))\n",
        "print(train_set.value_counts('LITHO'))\n",
        "print(\"test\", test_set.value_counts('LITHO'))"
      ],
      "execution_count": null,
      "outputs": []
    },
    {
      "cell_type": "code",
      "metadata": {
        "id": "8KgnD8fbXrmd"
      },
      "source": [
        "sample_weight = par_target_train.shape[0]/(2*np.bincount(par_target_train))\n",
        "\n",
        "rf = {\"clf__criterion\":[\"gini\", \"entropy\"], \"clf__max_depth\": range(2,8,2),\n",
        "           #\"clf__class_weight\":[{0:1, 1:75}, {0:1, 1:65}, {0:1, 1:70}],\n",
        "           \"clf__min_samples_leaf\": range(1,7,1), \"clf__n_estimators\":range(50,90,20)\n",
        "      }\n",
        "\n",
        "pipe = Pipeline(steps=[ ('scaler', MinMaxScaler()),\n",
        "                            ('clf', RandomForestClassifier(random_state=42))\n",
        "                      ])\n",
        "grid_cv = model_selection.GridSearchCV(pipe, rf, scoring='roc_auc')\n",
        "grid_cv.fit(par_feature_train, par_target_train, clf__sample_weight=sample_weight[par_target_train])\n",
        "print(\"model best score: \", grid_cv.best_score_)\n",
        "print(grid_cv.best_params_)\n",
        "clf_par = grid_cv.best_estimator_\n"
      ],
      "execution_count": null,
      "outputs": []
    },
    {
      "cell_type": "code",
      "metadata": {
        "id": "oxDVevUrX5JU"
      },
      "source": [
        "par_prediction = clf_par.predict(Feature_test)\n",
        "user_acc = accuracy_score(Target_test, par_prediction)\n",
        "user_f1 = f1_score(Target_test, par_prediction)\n",
        "print('F1 метрика равна %.3f, и доля правильных ответов составляет %.3f для базового кейса на PAR.'%\n",
        "      (user_f1, user_acc))"
      ],
      "execution_count": null,
      "outputs": []
    },
    {
      "cell_type": "code",
      "metadata": {
        "id": "dv-_rZKaX-m_"
      },
      "source": [
        "# отрисуем полученные данные (1000)\n",
        "new_data[:5000].plot(subplots=True, figsize=(15, 10))\n",
        "plt.ylabel(\"Value syn\")\n",
        "plt.xlabel(\"N\")\n",
        "plt.legend(loc='best')\n",
        "plt.xticks(rotation='vertical')\n",
        "plt.show()"
      ],
      "execution_count": null,
      "outputs": []
    },
    {
      "cell_type": "code",
      "metadata": {
        "id": "VfdDGhEGYApu"
      },
      "source": [
        "\n",
        "# отрисуем полученные данные (1000)\n",
        "new_data[:300].plot(subplots=True, figsize=(15, 10))\n",
        "plt.ylabel(\"Value syn\")\n",
        "plt.xlabel(\"N\")\n",
        "plt.legend(loc='best')\n",
        "plt.xticks(rotation='vertical')\n",
        "plt.show()"
      ],
      "execution_count": null,
      "outputs": []
    },
    {
      "cell_type": "code",
      "metadata": {
        "id": "3xuEGcH0YDAv"
      },
      "source": [
        "# отрисуем обучающие данные (1000)\n",
        "train_set[:5000].plot(subplots=True, figsize=(15, 10))\n",
        "plt.ylabel(\"Value real\")\n",
        "plt.xlabel(\"N\")\n",
        "plt.legend(loc='best')\n",
        "plt.xticks(rotation='vertical')\n",
        "plt.show()"
      ],
      "execution_count": null,
      "outputs": []
    },
    {
      "cell_type": "code",
      "metadata": {
        "id": "NAl_QrqaYFsb"
      },
      "source": [
        "print(classification_report(par_prediction, Target_test))\n",
        "print(classification_report(predicted_litho, Target_test))"
      ],
      "execution_count": null,
      "outputs": []
    },
    {
      "cell_type": "code",
      "metadata": {
        "id": "z1daTjCPYHMK"
      },
      "source": [
        "print(\"roc_auc real data \", roc_auc_score(Target_test, predicted_litho),\n",
        "      \"roc_auc syn data \", roc_auc_score(Target_test, par_prediction))"
      ],
      "execution_count": null,
      "outputs": []
    },
    {
      "cell_type": "code",
      "metadata": {
        "id": "FQ1cjsz8YI9i"
      },
      "source": [
        "plot_confusion_matrix(clf_par, Feature_test, Target_test, values_format='d')"
      ],
      "execution_count": null,
      "outputs": []
    },
    {
      "cell_type": "code",
      "metadata": {
        "id": "V_RJ6dAOYKG6"
      },
      "source": [
        "plot_confusion_matrix(clf, Feature_test, Target_test, values_format='d')"
      ],
      "execution_count": null,
      "outputs": []
    },
    {
      "cell_type": "code",
      "metadata": {
        "id": "ltkibF1CYL4z"
      },
      "source": [
        "sns.boxplot(data=new_data[[\"SP\", \"GR\", \"DT\", \"DENS\"]])"
      ],
      "execution_count": null,
      "outputs": []
    },
    {
      "cell_type": "code",
      "metadata": {
        "id": "vIGnWJqCYNFj"
      },
      "source": [
        "sns.boxplot(data=train_set[[\"SP\", \"GR\", \"DT\", \"DENS\"]])"
      ],
      "execution_count": null,
      "outputs": []
    },
    {
      "cell_type": "code",
      "metadata": {
        "id": "b5-vGco7YOih"
      },
      "source": [
        "plot_roc_curve(clf_par, Feature_test, Target_test)"
      ],
      "execution_count": null,
      "outputs": []
    },
    {
      "cell_type": "code",
      "metadata": {
        "id": "aH9tBvw0YPfs"
      },
      "source": [
        "plot_roc_curve(clf, Feature_test, Target_test)"
      ],
      "execution_count": null,
      "outputs": []
    }
  ]
}